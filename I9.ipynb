{
 "metadata": {
  "name": "",
  "signature": "sha256:631e13207c0f0b633c29ec24bf334f4a52124944e568c2e3f11e884b355b695d"
 },
 "nbformat": 3,
 "nbformat_minor": 0,
 "worksheets": [
  {
   "cells": [
    {
     "cell_type": "code",
     "collapsed": false,
     "input": [
      "import pandas as pd\n",
      "import numpy as np\n",
      "\n",
      "def trr(row):\n",
      "    return str(tf['store_nbr'])+'_'+str(tf['item_nbr'])+'_'+str(tf['date'])\n",
      "\n",
      "tf = pd.read_csv('test.csv')\n",
      "tf['id'] = tf.head().apply (lambda row: trr (row),axis=1)\n",
      "tf.info()\n",
      "tf.head()"
     ],
     "language": "python",
     "metadata": {},
     "outputs": [
      {
       "output_type": "stream",
       "stream": "stdout",
       "text": [
        "<class 'pandas.core.frame.DataFrame'>\n",
        "Int64Index: 526917 entries, 0 to 526916\n",
        "Data columns (total 4 columns):\n",
        "date         526917 non-null object\n",
        "store_nbr    526917 non-null int64\n",
        "item_nbr     526917 non-null int64\n",
        "id           5 non-null object\n",
        "dtypes: int64(2), object(2)"
       ]
      },
      {
       "html": [
        "<div style=\"max-height:1000px;max-width:1500px;overflow:auto;\">\n",
        "<table border=\"1\" class=\"dataframe\">\n",
        "  <thead>\n",
        "    <tr style=\"text-align: right;\">\n",
        "      <th></th>\n",
        "      <th>date</th>\n",
        "      <th>store_nbr</th>\n",
        "      <th>item_nbr</th>\n",
        "      <th>id</th>\n",
        "    </tr>\n",
        "  </thead>\n",
        "  <tbody>\n",
        "    <tr>\n",
        "      <th>0</th>\n",
        "      <td> 2013-04-01</td>\n",
        "      <td> 2</td>\n",
        "      <td> 1</td>\n",
        "      <td> 0     2\\n1     2\\n2     2\\n3     2\\n4     2\\n5...</td>\n",
        "    </tr>\n",
        "    <tr>\n",
        "      <th>1</th>\n",
        "      <td> 2013-04-01</td>\n",
        "      <td> 2</td>\n",
        "      <td> 2</td>\n",
        "      <td> 0     2\\n1     2\\n2     2\\n3     2\\n4     2\\n5...</td>\n",
        "    </tr>\n",
        "    <tr>\n",
        "      <th>2</th>\n",
        "      <td> 2013-04-01</td>\n",
        "      <td> 2</td>\n",
        "      <td> 3</td>\n",
        "      <td> 0     2\\n1     2\\n2     2\\n3     2\\n4     2\\n5...</td>\n",
        "    </tr>\n",
        "    <tr>\n",
        "      <th>3</th>\n",
        "      <td> 2013-04-01</td>\n",
        "      <td> 2</td>\n",
        "      <td> 4</td>\n",
        "      <td> 0     2\\n1     2\\n2     2\\n3     2\\n4     2\\n5...</td>\n",
        "    </tr>\n",
        "    <tr>\n",
        "      <th>4</th>\n",
        "      <td> 2013-04-01</td>\n",
        "      <td> 2</td>\n",
        "      <td> 5</td>\n",
        "      <td> 0     2\\n1     2\\n2     2\\n3     2\\n4     2\\n5...</td>\n",
        "    </tr>\n",
        "  </tbody>\n",
        "</table>\n",
        "</div>"
       ],
       "metadata": {},
       "output_type": "pyout",
       "prompt_number": 10,
       "text": [
        "         date  store_nbr  item_nbr  \\\n",
        "0  2013-04-01          2         1   \n",
        "1  2013-04-01          2         2   \n",
        "2  2013-04-01          2         3   \n",
        "3  2013-04-01          2         4   \n",
        "4  2013-04-01          2         5   \n",
        "\n",
        "                                                  id  \n",
        "0  0     2\\n1     2\\n2     2\\n3     2\\n4     2\\n5...  \n",
        "1  0     2\\n1     2\\n2     2\\n3     2\\n4     2\\n5...  \n",
        "2  0     2\\n1     2\\n2     2\\n3     2\\n4     2\\n5...  \n",
        "3  0     2\\n1     2\\n2     2\\n3     2\\n4     2\\n5...  \n",
        "4  0     2\\n1     2\\n2     2\\n3     2\\n4     2\\n5...  "
       ]
      }
     ],
     "prompt_number": 10
    },
    {
     "cell_type": "code",
     "collapsed": false,
     "input": [
      "df = pd.read_csv('sampleSubmission.csv')\n",
      "df.info()"
     ],
     "language": "python",
     "metadata": {},
     "outputs": [
      {
       "output_type": "stream",
       "stream": "stdout",
       "text": [
        "<class 'pandas.core.frame.DataFrame'>\n",
        "Int64Index: 526917 entries, 0 to 526916\n",
        "Data columns (total 2 columns):\n",
        "id       526917 non-null object\n",
        "units    526917 non-null int64\n",
        "dtypes: int64(1), object(1)"
       ]
      }
     ],
     "prompt_number": 3
    },
    {
     "cell_type": "code",
     "collapsed": false,
     "input": [
      "df.head()"
     ],
     "language": "python",
     "metadata": {},
     "outputs": [
      {
       "html": [
        "<div style=\"max-height:1000px;max-width:1500px;overflow:auto;\">\n",
        "<table border=\"1\" class=\"dataframe\">\n",
        "  <thead>\n",
        "    <tr style=\"text-align: right;\">\n",
        "      <th></th>\n",
        "      <th>id</th>\n",
        "      <th>units</th>\n",
        "    </tr>\n",
        "  </thead>\n",
        "  <tbody>\n",
        "    <tr>\n",
        "      <th>0</th>\n",
        "      <td> 2_1_2013-04-01</td>\n",
        "      <td> 0</td>\n",
        "    </tr>\n",
        "    <tr>\n",
        "      <th>1</th>\n",
        "      <td> 2_2_2013-04-01</td>\n",
        "      <td> 0</td>\n",
        "    </tr>\n",
        "    <tr>\n",
        "      <th>2</th>\n",
        "      <td> 2_3_2013-04-01</td>\n",
        "      <td> 0</td>\n",
        "    </tr>\n",
        "    <tr>\n",
        "      <th>3</th>\n",
        "      <td> 2_4_2013-04-01</td>\n",
        "      <td> 0</td>\n",
        "    </tr>\n",
        "    <tr>\n",
        "      <th>4</th>\n",
        "      <td> 2_5_2013-04-01</td>\n",
        "      <td> 0</td>\n",
        "    </tr>\n",
        "  </tbody>\n",
        "</table>\n",
        "</div>"
       ],
       "metadata": {},
       "output_type": "pyout",
       "prompt_number": 4,
       "text": [
        "               id  units\n",
        "0  2_1_2013-04-01      0\n",
        "1  2_2_2013-04-01      0\n",
        "2  2_3_2013-04-01      0\n",
        "3  2_4_2013-04-01      0\n",
        "4  2_5_2013-04-01      0"
       ]
      }
     ],
     "prompt_number": 4
    },
    {
     "cell_type": "code",
     "collapsed": false,
     "input": [],
     "language": "python",
     "metadata": {},
     "outputs": []
    }
   ],
   "metadata": {}
  }
 ]
}