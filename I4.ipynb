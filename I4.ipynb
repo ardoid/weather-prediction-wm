{
 "metadata": {
  "name": "",
  "signature": "sha256:4282f9e76016125224d32eed4461cc38913d68459d3eb3de081fdd01880657eb"
 },
 "nbformat": 3,
 "nbformat_minor": 0,
 "worksheets": [
  {
   "cells": [
    {
     "cell_type": "code",
     "collapsed": false,
     "input": [
      "import pandas as pd\n",
      "import numpy as np\n",
      "\n",
      "kf = pd.read_csv('key.csv')\n",
      "wf = pd.read_csv('weather.csv')\n",
      "wf = wf.replace('M',nan)\n",
      "wf = wf.convert_objects(convert_numeric=True)\n",
      "wf['date'] = pd.to_datetime(wf['date'])\n",
      "ar = wf['codesum'].unique()\n",
      "cdsm = set()\n",
      "for a in ar:\n",
      "    b = a.split(' ')\n",
      "    for c in b:\n",
      "        d = ' '\n",
      "        if len(c) == 4:\n",
      "            c,d = c[0:2],c[2:4]\n",
      "        elif len(c) == 3:\n",
      "            c = c[0:2]\n",
      "        cdsm.add(c)\n",
      "        if d != ' ':\n",
      "            cdsm.add(d)\n",
      "cdsm.remove('')\n",
      "for k in cdsm:\n",
      "    wf[k] = pd.Series(0)\n",
      "    wf[k] = wf[k].fillna(0)\n",
      "    wf[k] = wf[k].astype(int32)\n",
      "\n",
      "for i, a in enumerate(wf['codesum']):\n",
      "    a = a.strip()\n",
      "    b = a.split(' ')\n",
      "    for c in b:\n",
      "        if len(c) == 4:\n",
      "            wf[c[0:2]][i] = 1\n",
      "            wf[c[2:4]][i] = 1\n",
      "        elif len(c) == 3:\n",
      "            wf[c[0:2]][i] = 2\n",
      "        elif len(c) == 2:\n",
      "            wf[c][i] == 1\n",
      "wf = wf.drop(['codesum'], axis=1)\n",
      "\n",
      "#convert to float32\n",
      "cols = wf.columns.tolist()\n",
      "for col in cols:\n",
      "    if col == 'station_nbr' or col == 'date' or col in cdsm:\n",
      "        continue\n",
      "    wf[col] = wf[col].astype(np.float32)\n",
      "\n",
      "#fill in missing value\n",
      "wf['tmin'] = wf['tmin'].fillna(method='pad')\n",
      "wf['tmax'] = wf['tmax'].fillna(method='pad')\n",
      "wf['tavg'] = wf['tavg'].fillna((wf['tmax']+wf['tmin'])/2)\n",
      "wf = wf.fillna(method='pad')\n",
      "wf = wf.fillna(0)\n",
      "\n",
      "tf = pd.read_csv('train.csv')\n",
      "tf['date'] = pd.to_datetime(tf['date'])\n",
      "trf = pd.merge(tf,kf,how='left')\n",
      "wrf = pd.merge(trf,wf)\n",
      "trf = 0\n",
      "wrf = wrf.drop(['date','station_nbr'], axis=1)\n",
      "cols = wrf.columns.tolist()\n",
      "cols = [cols[2]] + cols[0:2] + cols[3:]\n",
      "wrf = wrf[cols]\n",
      "\n",
      "train_data = wrf.values"
     ],
     "language": "python",
     "metadata": {},
     "outputs": [],
     "prompt_number": 1
    },
    {
     "cell_type": "code",
     "collapsed": false,
     "input": [
      "wrf['units'] = wrf['units'].astype(int32)\n",
      "wrf['store_nbr'] = wrf['store_nbr'].astype(int32)\n",
      "wrf['item_nbr'] = wrf['item_nbr'].astype(int32)\n",
      "wrf.info()\n",
      "train_data = wrf.values"
     ],
     "language": "python",
     "metadata": {},
     "outputs": [
      {
       "output_type": "stream",
       "stream": "stdout",
       "text": [
        "<class 'pandas.core.frame.DataFrame'>\n",
        "Int64Index: 4617600 entries, 0 to 4617599\n",
        "Data columns (total 41 columns):\n",
        "units          int32\n",
        "store_nbr      int32\n",
        "item_nbr       int32\n",
        "tmax           float32\n",
        "tmin           float32\n",
        "tavg           float32\n",
        "depart         float32\n",
        "dewpoint       float32\n",
        "wetbulb        float32\n",
        "heat           float32\n",
        "cool           float32\n",
        "sunrise        float32\n",
        "sunset         float32\n",
        "snowfall       float32\n",
        "preciptotal    float32\n",
        "stnpressure    float32\n",
        "sealevel       float32\n",
        "resultspeed    float32\n",
        "resultdir      float32\n",
        "avgspeed       float32\n",
        "HZ             float32\n",
        "FU             float32\n",
        "BC             float32\n",
        "BL             float32\n",
        "FZ             float32\n",
        "DZ             float32\n",
        "BR             float32\n",
        "FG             float32\n",
        "DU             float32\n",
        "PR             float32\n",
        "TS             float32\n",
        "RA             float32\n",
        "PL             float32\n",
        "VC             float32\n",
        "GS             float32\n",
        "GR             float32\n",
        "SQ             float32\n",
        "MI             float32\n",
        "UP             float32\n",
        "SN             float32\n",
        "SG             float32\n",
        "dtypes: float32(41)"
       ]
      }
     ],
     "prompt_number": 2
    },
    {
     "cell_type": "code",
     "collapsed": false,
     "input": [
      "train_data"
     ],
     "language": "python",
     "metadata": {},
     "outputs": [
      {
       "metadata": {},
       "output_type": "pyout",
       "prompt_number": 4,
       "text": [
        "array([[   0.,    1.,    1., ...,    0.,    0.,    0.],\n",
        "       [   0.,    1.,    2., ...,    0.,    0.,    0.],\n",
        "       [   0.,    1.,    3., ...,    0.,    0.,    0.],\n",
        "       ..., \n",
        "       [   0.,   35.,  109., ...,    0.,    0.,    0.],\n",
        "       [   0.,   35.,  110., ...,    0.,    0.,    0.],\n",
        "       [   0.,   35.,  111., ...,    0.,    0.,    0.]], dtype=float32)"
       ]
      }
     ],
     "prompt_number": 4
    },
    {
     "cell_type": "code",
     "collapsed": false,
     "input": [
      "from sklearn.naive_bayes import GaussianNB\n",
      "gnb = GaussianNB()\n",
      "gnb.fit(train_data[0:,1:],train_data[0:,0])"
     ],
     "language": "python",
     "metadata": {},
     "outputs": [
      {
       "ename": "ValueError",
       "evalue": "Input contains NaN, infinity or a value too large for dtype('float32').",
       "output_type": "pyerr",
       "traceback": [
        "\u001b[1;31m---------------------------------------------------------------------------\u001b[0m\n\u001b[1;31mValueError\u001b[0m                                Traceback (most recent call last)",
        "\u001b[1;32m<ipython-input-6-2dd5252ded9f>\u001b[0m in \u001b[0;36m<module>\u001b[1;34m()\u001b[0m\n\u001b[0;32m      1\u001b[0m \u001b[1;32mfrom\u001b[0m \u001b[0msklearn\u001b[0m\u001b[1;33m.\u001b[0m\u001b[0mnaive_bayes\u001b[0m \u001b[1;32mimport\u001b[0m \u001b[0mGaussianNB\u001b[0m\u001b[1;33m\u001b[0m\u001b[0m\n\u001b[0;32m      2\u001b[0m \u001b[0mgnb\u001b[0m \u001b[1;33m=\u001b[0m \u001b[0mGaussianNB\u001b[0m\u001b[1;33m(\u001b[0m\u001b[1;33m)\u001b[0m\u001b[1;33m\u001b[0m\u001b[0m\n\u001b[1;32m----> 3\u001b[1;33m \u001b[0mgnb\u001b[0m\u001b[1;33m.\u001b[0m\u001b[0mfit\u001b[0m\u001b[1;33m(\u001b[0m\u001b[0mtrain_data\u001b[0m\u001b[1;33m[\u001b[0m\u001b[1;36m0\u001b[0m\u001b[1;33m:\u001b[0m\u001b[1;33m,\u001b[0m\u001b[1;36m1\u001b[0m\u001b[1;33m:\u001b[0m\u001b[1;33m]\u001b[0m\u001b[1;33m,\u001b[0m\u001b[0mtrain_data\u001b[0m\u001b[1;33m[\u001b[0m\u001b[1;36m0\u001b[0m\u001b[1;33m:\u001b[0m\u001b[1;33m,\u001b[0m\u001b[1;36m0\u001b[0m\u001b[1;33m]\u001b[0m\u001b[1;33m)\u001b[0m\u001b[1;33m\u001b[0m\u001b[0m\n\u001b[0m",
        "\u001b[1;32m/usr/local/lib/python2.7/dist-packages/sklearn/naive_bayes.pyc\u001b[0m in \u001b[0;36mfit\u001b[1;34m(self, X, y)\u001b[0m\n\u001b[0;32m    147\u001b[0m         \"\"\"\n\u001b[0;32m    148\u001b[0m \u001b[1;33m\u001b[0m\u001b[0m\n\u001b[1;32m--> 149\u001b[1;33m         \u001b[0mX\u001b[0m\u001b[1;33m,\u001b[0m \u001b[0my\u001b[0m \u001b[1;33m=\u001b[0m \u001b[0mcheck_arrays\u001b[0m\u001b[1;33m(\u001b[0m\u001b[0mX\u001b[0m\u001b[1;33m,\u001b[0m \u001b[0my\u001b[0m\u001b[1;33m,\u001b[0m \u001b[0msparse_format\u001b[0m\u001b[1;33m=\u001b[0m\u001b[1;34m'dense'\u001b[0m\u001b[1;33m)\u001b[0m\u001b[1;33m\u001b[0m\u001b[0m\n\u001b[0m\u001b[0;32m    150\u001b[0m         \u001b[0my\u001b[0m \u001b[1;33m=\u001b[0m \u001b[0mcolumn_or_1d\u001b[0m\u001b[1;33m(\u001b[0m\u001b[0my\u001b[0m\u001b[1;33m,\u001b[0m \u001b[0mwarn\u001b[0m\u001b[1;33m=\u001b[0m\u001b[0mTrue\u001b[0m\u001b[1;33m)\u001b[0m\u001b[1;33m\u001b[0m\u001b[0m\n\u001b[0;32m    151\u001b[0m \u001b[1;33m\u001b[0m\u001b[0m\n",
        "\u001b[1;32m/usr/local/lib/python2.7/dist-packages/sklearn/utils/validation.pyc\u001b[0m in \u001b[0;36mcheck_arrays\u001b[1;34m(*arrays, **options)\u001b[0m\n\u001b[0;32m    281\u001b[0m                     \u001b[0marray\u001b[0m \u001b[1;33m=\u001b[0m \u001b[0mnp\u001b[0m\u001b[1;33m.\u001b[0m\u001b[0masarray\u001b[0m\u001b[1;33m(\u001b[0m\u001b[0marray\u001b[0m\u001b[1;33m,\u001b[0m \u001b[0mdtype\u001b[0m\u001b[1;33m=\u001b[0m\u001b[0mdtype\u001b[0m\u001b[1;33m)\u001b[0m\u001b[1;33m\u001b[0m\u001b[0m\n\u001b[0;32m    282\u001b[0m                 \u001b[1;32mif\u001b[0m \u001b[1;32mnot\u001b[0m \u001b[0mallow_nans\u001b[0m\u001b[1;33m:\u001b[0m\u001b[1;33m\u001b[0m\u001b[0m\n\u001b[1;32m--> 283\u001b[1;33m                     \u001b[0m_assert_all_finite\u001b[0m\u001b[1;33m(\u001b[0m\u001b[0marray\u001b[0m\u001b[1;33m)\u001b[0m\u001b[1;33m\u001b[0m\u001b[0m\n\u001b[0m\u001b[0;32m    284\u001b[0m \u001b[1;33m\u001b[0m\u001b[0m\n\u001b[0;32m    285\u001b[0m             \u001b[1;32mif\u001b[0m \u001b[1;32mnot\u001b[0m \u001b[0mallow_nd\u001b[0m \u001b[1;32mand\u001b[0m \u001b[0marray\u001b[0m\u001b[1;33m.\u001b[0m\u001b[0mndim\u001b[0m \u001b[1;33m>=\u001b[0m \u001b[1;36m3\u001b[0m\u001b[1;33m:\u001b[0m\u001b[1;33m\u001b[0m\u001b[0m\n",
        "\u001b[1;32m/usr/local/lib/python2.7/dist-packages/sklearn/utils/validation.pyc\u001b[0m in \u001b[0;36m_assert_all_finite\u001b[1;34m(X)\u001b[0m\n\u001b[0;32m     41\u001b[0m             and not np.isfinite(X).all()):\n\u001b[0;32m     42\u001b[0m         raise ValueError(\"Input contains NaN, infinity\"\n\u001b[1;32m---> 43\u001b[1;33m                          \" or a value too large for %r.\" % X.dtype)\n\u001b[0m\u001b[0;32m     44\u001b[0m \u001b[1;33m\u001b[0m\u001b[0m\n\u001b[0;32m     45\u001b[0m \u001b[1;33m\u001b[0m\u001b[0m\n",
        "\u001b[1;31mValueError\u001b[0m: Input contains NaN, infinity or a value too large for dtype('float32')."
       ]
      }
     ],
     "prompt_number": 6
    },
    {
     "cell_type": "heading",
     "level": 2,
     "metadata": {},
     "source": [
      "ML"
     ]
    },
    {
     "cell_type": "code",
     "collapsed": false,
     "input": [
      "from sklearn.ensemble import RandomForestClassifier\n",
      "\n",
      "model = RandomForestClassifier(n_estimators = 100)\n",
      "model = model.fit(train_data[0:,1:2],train_data[0:,0])"
     ],
     "language": "python",
     "metadata": {},
     "outputs": [],
     "prompt_number": 3
    },
    {
     "cell_type": "code",
     "collapsed": false,
     "input": [
      "tf = pd.read_csv('test.csv')\n",
      "tf['date'] = pd.to_datetime(tf['date'])\n",
      "trf = pd.merge(tf,kf,how='left')\n",
      "wrf = pd.merge(trf,wf)\n",
      "tf.info()\n",
      "\n",
      "test_data = wrf.values"
     ],
     "language": "python",
     "metadata": {},
     "outputs": [
      {
       "output_type": "stream",
       "stream": "stdout",
       "text": [
        "<class 'pandas.core.frame.DataFrame'>\n",
        "Int64Index: 526917 entries, 0 to 526916\n",
        "Data columns (total 3 columns):\n",
        "date         526917 non-null datetime64[ns]\n",
        "store_nbr    526917 non-null int64\n",
        "item_nbr     526917 non-null int64\n",
        "dtypes: datetime64[ns](1), int64(2)"
       ]
      }
     ],
     "prompt_number": 4
    },
    {
     "cell_type": "code",
     "collapsed": false,
     "input": [
      "wrf = wrf.drop(['date','station_nbr'], axis=1)\n",
      "test_data = wrf.values"
     ],
     "language": "python",
     "metadata": {},
     "outputs": [],
     "prompt_number": 5
    },
    {
     "cell_type": "code",
     "collapsed": false,
     "input": [
      "output = model.predict(test_data[:,0:1])\n",
      "\n",
      "result = np.c_[test_data[:,0].astype(int), output.astype(int)]\n",
      "#df_result = pd.DataFrame(result[:,0:2], columns=['PassengerId', 'Survived'])"
     ],
     "language": "python",
     "metadata": {},
     "outputs": []
    },
    {
     "cell_type": "code",
     "collapsed": false,
     "input": [],
     "language": "python",
     "metadata": {},
     "outputs": []
    }
   ],
   "metadata": {}
  }
 ]
}